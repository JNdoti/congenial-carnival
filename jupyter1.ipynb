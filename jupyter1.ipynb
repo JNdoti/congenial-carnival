{
 "cells": [
  {
   "cell_type": "markdown",
   "id": "06c5af91-b3e0-41da-9ee1-9a3a68a83eaf",
   "metadata": {},
   "source": [
    "# My Jupyter Notebook on IBM Watson Studio #"
   ]
  },
  {
   "cell_type": "markdown",
   "id": "500fd074-ebab-4f07-b4a1-2a9e96a30cd0",
   "metadata": {},
   "source": [
    "<b>Juliet Ndoti</b> <br>Aspiring datascientist</br>"
   ]
  },
  {
   "cell_type": "markdown",
   "id": "6537cfed-c4b9-46b4-8dcb-acab1427e215",
   "metadata": {},
   "source": [
    "<i>I am interested in data science because I want to pursue a career in deriving insights from data</i>"
   ]
  },
  {
   "cell_type": "markdown",
   "id": "127f80e0-3d68-4281-9b89-a230c214f88d",
   "metadata": {},
   "source": [
    "## The following code calculates the area of a circle"
   ]
  },
  {
   "cell_type": "code",
   "execution_count": 3,
   "id": "29f1ef27-1958-4578-96e6-cc98821212b2",
   "metadata": {},
   "outputs": [
    {
     "data": {
      "text/plain": [
       "87.976"
      ]
     },
     "execution_count": 3,
     "metadata": {},
     "output_type": "execute_result"
    }
   ],
   "source": [
    "pi=3.142\n",
    "r=14\n",
    "area=2*pi*r\n",
    "area"
   ]
  },
  {
   "cell_type": "markdown",
   "id": "288c1f6b-8cf6-4988-a448-fdaec9b36028",
   "metadata": {},
   "source": [
    "* cow \n",
    "* goat \n",
    "1. hen\n",
    "1. pig\n",
    "<br>~~here is some struck through test~~</br>\n",
    "<mark> highlight </mark>"
   ]
  },
  {
   "cell_type": "code",
   "execution_count": null,
   "id": "7ba865fc-5b82-42d4-aa25-871f4c47a40a",
   "metadata": {},
   "outputs": [],
   "source": []
  }
 ],
 "metadata": {
  "kernelspec": {
   "display_name": "anaconda-2022.05-py39",
   "language": "python",
   "name": "conda-env-anaconda-2022.05-py39-py"
  },
  "language_info": {
   "codemirror_mode": {
    "name": "ipython",
    "version": 3
   },
   "file_extension": ".py",
   "mimetype": "text/x-python",
   "name": "python",
   "nbconvert_exporter": "python",
   "pygments_lexer": "ipython3",
   "version": "3.9.12"
  }
 },
 "nbformat": 4,
 "nbformat_minor": 5
}
